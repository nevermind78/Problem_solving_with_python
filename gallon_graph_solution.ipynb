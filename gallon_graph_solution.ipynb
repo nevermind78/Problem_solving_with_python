{
 "cells": [
  {
   "cell_type": "code",
   "execution_count": 26,
   "metadata": {},
   "outputs": [],
   "source": [
    "class G(object):\n",
    "    def __init__(self, volm,vola):\n",
    "        if vola>volm:\n",
    "            raise Exception('out of volume')\n",
    "        self.vola = vola\n",
    "        self.volm = volm\n",
    "        if self.vola<self.volm:\n",
    "            self.etat = False\n",
    "        else:\n",
    "            self.etat =True\n",
    "        if self.vola==0:\n",
    "            self.vide = True\n",
    "        else:\n",
    "            self.vide = False\n",
    "    def remp(self,other):\n",
    "        if not other.etat and not self.vide:\n",
    "            aco = other.vola\n",
    "            acs = self.vola\n",
    "            other.vola=(aco+acs)*(aco+acs<other.volm)+(other.volm)*(aco+acs>=other.volm)\n",
    "            self.vola=((acs+aco)-other.vola)*((acs+aco)-other.vola>0)\n",
    "                \n",
    "    def __add__(self,other):\n",
    "        if not other.etat and not self.vide:\n",
    "            aco = other.vola\n",
    "            acs = self.vola\n",
    "            other.vola=(aco+acs)*(aco+acs<other.volm)+(other.volm)*(aco+acs>=other.volm)\n",
    "            self.vola=((acs+aco)-other.vola)*((acs+aco)-other.vola>0)            "
   ]
  },
  {
   "cell_type": "code",
   "execution_count": 27,
   "metadata": {},
   "outputs": [],
   "source": [
    "def niv(a,b,c,ini=(8,0,0)):\n",
    "    LL=set()\n",
    "    his={}\n",
    "    g8,g5,g3=G(8,a),G(5,b),G(3,c)\n",
    "    g8+g5\n",
    "    if (g8.vola,g5.vola,g3.vola) not in {ini,(a,b,c)} :\n",
    "        LL.update({(g8.vola,g5.vola,g3.vola)})\n",
    "        his.update({'1':(g8.vola,g5.vola,g3.vola)})\n",
    "    g8,g5,g3=G(8,a),G(5,b),G(3,c)\n",
    "    g8+g3\n",
    "    if (g8.vola,g5.vola,g3.vola) not in {ini,(a,b,c)} :\n",
    "        LL.update({(g8.vola,g5.vola,g3.vola)})\n",
    "        his.update({'2':(g8.vola,g5.vola,g3.vola)})\n",
    "    g8,g5,g3=G(8,a),G(5,b),G(3,c)\n",
    "    g5+g8\n",
    "    if (g8.vola,g5.vola,g3.vola) not in {ini,(a,b,c)}  :\n",
    "        LL.update({(g8.vola,g5.vola,g3.vola)})\n",
    "        his.update({'3':(g8.vola,g5.vola,g3.vola)})\n",
    "    g8,g5,g3=G(8,a),G(5,b),G(3,c)\n",
    "    g5+g3\n",
    "    if (g8.vola,g5.vola,g3.vola) not in {ini,(a,b,c)}  :\n",
    "        LL.update({(g8.vola,g5.vola,g3.vola)})\n",
    "        his.update({'4':(g8.vola,g5.vola,g3.vola)})\n",
    "    g8,g5,g3=G(8,a),G(5,b),G(3,c)\n",
    "    g3+g8\n",
    "    if (g8.vola,g5.vola,g3.vola) not in {ini,(a,b,c)}  :\n",
    "        LL.update({(g8.vola,g5.vola,g3.vola)})\n",
    "        his.update({'5':(g8.vola,g5.vola,g3.vola)})\n",
    "    g8,g5,g3=G(8,a),G(5,b),G(3,c)\n",
    "    g3+g5\n",
    "    if (g8.vola,g5.vola,g3.vola) not in {ini,(a,b,c)}  :\n",
    "        LL.update({(g8.vola,g5.vola,g3.vola)})\n",
    "        his.update({'6':(g8.vola,g5.vola,g3.vola)})\n",
    "    return LL,his     "
   ]
  },
  {
   "cell_type": "code",
   "execution_count": 28,
   "metadata": {},
   "outputs": [],
   "source": [
    "def gv(val,dic):\n",
    "    return list(dic.keys())[list(dic.values()).index(val)]\n",
    "\n",
    "def uppath(target,ini):\n",
    "    global path\n",
    "    temp=set()\n",
    "    for a  in niv(*ini)[1] :\n",
    "        if niv(*ini)[1][a] not in path.values():\n",
    "            path.update({str(int(gv(ini,path))*10+int(a)):niv(*ini)[1][a]})\n",
    "            temp.update({(niv(*ini)[1][a])})\n",
    "    return temp "
   ]
  },
  {
   "cell_type": "code",
   "execution_count": 29,
   "metadata": {},
   "outputs": [],
   "source": [
    "def solve(target,ini):\n",
    "    global path\n",
    "    depth=list(uppath(target,ini))\n",
    "    for v in depth:\n",
    "        if target in v:\n",
    "            return gv(v,path),path\n",
    "        else:\n",
    "            solve(target,v)\n",
    "    return path          "
   ]
  },
  {
   "cell_type": "code",
   "execution_count": 65,
   "metadata": {},
   "outputs": [
    {
     "data": {
      "text/plain": [
       "{'1': (8, 0, 0),\n",
       " '11': (3, 5, 0),\n",
       " '12': (5, 0, 3),\n",
       " '121': (0, 5, 3),\n",
       " '126': (5, 3, 0),\n",
       " '1262': (2, 3, 3),\n",
       " '114': (3, 2, 3)}"
      ]
     },
     "execution_count": 65,
     "metadata": {},
     "output_type": "execute_result"
    }
   ],
   "source": [
    "path={'1': (8,0,0)}\n",
    "solve(2,(8,0,0))"
   ]
  },
  {
   "cell_type": "code",
   "execution_count": 66,
   "metadata": {},
   "outputs": [],
   "source": [
    "L=[k for k in [(u,v) for u in path.keys() for v in [k for k in path.keys() if len(k)==len(u)+1]] if k[0] in k[1] ]"
   ]
  },
  {
   "cell_type": "code",
   "execution_count": 67,
   "metadata": {},
   "outputs": [],
   "source": [
    "f=lambda u:(int(u[0]),int(u[1]))"
   ]
  },
  {
   "cell_type": "code",
   "execution_count": 68,
   "metadata": {},
   "outputs": [
    {
     "data": {
      "text/plain": [
       "[(1, 11), (1, 12), (11, 114), (12, 121), (12, 126), (126, 1262)]"
      ]
     },
     "execution_count": 68,
     "metadata": {},
     "output_type": "execute_result"
    }
   ],
   "source": [
    "LL=list(map(f,L))\n",
    "LL"
   ]
  },
  {
   "cell_type": "code",
   "execution_count": 69,
   "metadata": {},
   "outputs": [
    {
     "data": {
      "text/plain": [
       "{1: (8, 0, 0),\n",
       " 11: (3, 5, 0),\n",
       " 12: (5, 0, 3),\n",
       " 121: (0, 5, 3),\n",
       " 126: (5, 3, 0),\n",
       " 1262: (2, 3, 3),\n",
       " 114: (3, 2, 3)}"
      ]
     },
     "execution_count": 69,
     "metadata": {},
     "output_type": "execute_result"
    }
   ],
   "source": [
    "LL\n",
    "mapping={int(u):path[u] for u in path }\n",
    "mapping"
   ]
  },
  {
   "cell_type": "code",
   "execution_count": 70,
   "metadata": {},
   "outputs": [],
   "source": [
    "import networkx as nx\n",
    "g=nx.DiGraph()\n",
    "g.add_edges_from(LL)\n",
    "h=nx.relabel_nodes(g, mapping)\n",
    "p=nx.drawing.nx_pydot.to_pydot(h)\n",
    "p.write_png('example.png')"
   ]
  },
  {
   "cell_type": "code",
   "execution_count": 71,
   "metadata": {},
   "outputs": [
    {
     "data": {
      "image/png": "[encoded data removed]",
      "text/plain": [
       "<IPython.core.display.Image object>"
      ]
     },
     "execution_count": 71,
     "metadata": {},
     "output_type": "execute_result"
    }
   ],
   "source": [
    "from IPython.display import Image\n",
    "Image(filename='example.png') "
   ]
  }
 ],
 "metadata": {
  "kernelspec": {
   "display_name": "Python 3",
   "language": "python",
   "name": "python3"
  },
  "language_info": {
   "codemirror_mode": {
    "name": "ipython",
    "version": 3
   },
   "file_extension": ".py",
   "mimetype": "text/x-python",
   "name": "python",
   "nbconvert_exporter": "python",
   "pygments_lexer": "ipython3",
   "version": "3.7.4"
  }
 },
 "nbformat": 4,
 "nbformat_minor": 2
}
