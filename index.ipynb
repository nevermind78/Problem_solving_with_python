{
 "cells": [
  {
   "cell_type": "markdown",
   "metadata": {},
   "source": [
    "# The Three Gallon Problem"
   ]
  },
  {
   "cell_type": "markdown",
   "metadata": {},
   "source": [
    "## The art of solving problem with python\n",
    "\n",
    "\n",
    "<center>\n",
    "<img src=\"img/3GP.png\" width=500 height=360 /></center>\n",
    "\n",
    "\n",
    "\n",
    "\n",
    "\n",
    "\n",
    "\n"
   ]
  },
  {
   "cell_type": "markdown",
   "metadata": {},
   "source": [
    "The three Gallon Problem : Suppose you have 8L, 5L and a 3L bucket with you, The buckets have no measurement lines on them and you are asked to measure exactly 4L of water using the three buckets. How could you measure exactly 4L water using only those buckets?"
   ]
  },
  {
   "cell_type": "markdown",
   "metadata": {},
   "source": [
    "Here is a solution with graph theory implemented by python for this special case and also for generalized situation. "
   ]
  },
  {
   "cell_type": "code",
   "execution_count": null,
   "metadata": {},
   "outputs": [],
   "source": [
    "class G(object):\n",
    "    ''' Galoon Class \n",
    "    __init__ : to initialize the volm : maximum volume and vola = actual volume'''\n",
    "    def __init__(self, volm,vola):\n",
    "        if vola>volm:\n",
    "            raise Exception('out of volume')\n",
    "        self.vola = vola # actual valume\n",
    "        self.volm = volm # maximum volume\n",
    "        if self.vola<self.volm:\n",
    "            self.etat = False # the state of gallon ( full or not full)\n",
    "        else:\n",
    "            self.etat =True\n",
    "        if self.vola==0:\n",
    "            self.vide = True # empty or not empty\n",
    "        else:\n",
    "            self.vide = False\n",
    "    def __add__(self,other):\n",
    "        if not other.etat and not self.vide:\n",
    "            aco = other.vola # actual other object volume\n",
    "            acs = self.vola # actual self object volume\n",
    "            other.vola=(aco+acs)*(aco+acs<other.volm)+(other.volm)*(aco+acs>=other.volm)\n",
    "            self.vola=((acs+aco)-other.vola)*((acs+aco)-other.vola>0)\n"
   ]
  },
  {
   "cell_type": "code",
   "execution_count": null,
   "metadata": {},
   "outputs": [],
   "source": [
    "def niv(a,b,c,ini):\n",
    "    ''' construct the first level of the graph'''\n",
    "    global A,B,C, path\n",
    "    LL=set()\n",
    "    if (a,b,c)==ini:\n",
    "        path={'1':ini}\n",
    "        g8,g5,g3=G(A,a),G(B,b),G(C,c)\n",
    "        g8+g5\n",
    "        if (g8.vola,g5.vola,g3.vola) not in path.values() :\n",
    "            LL.update({(g8.vola,g5.vola,g3.vola)})\n",
    "            path.update({'11':(g8.vola,g5.vola,g3.vola)})\n",
    "        g8,g5,g3=G(A,a),G(B,b),G(C,c)\n",
    "        g8+g3\n",
    "        if (g8.vola,g5.vola,g3.vola) not in path.values() :\n",
    "            LL.update({(g8.vola,g5.vola,g3.vola)})\n",
    "            path.update({'12':(g8.vola,g5.vola,g3.vola)})\n",
    "        g8,g5,g3=G(A,a),G(B,b),G(C,c)\n",
    "        g5+g8\n",
    "        if (g8.vola,g5.vola,g3.vola) not in path.values()  :\n",
    "            LL.update({(g8.vola,g5.vola,g3.vola)})\n",
    "            path.update({'13':(g8.vola,g5.vola,g3.vola)})\n",
    "        g8,g5,g3=G(A,a),G(B,b),G(C,c)\n",
    "        g5+g3\n",
    "        if (g8.vola,g5.vola,g3.vola) not in path.values()  :\n",
    "            LL.update({(g8.vola,g5.vola,g3.vola)})\n",
    "            path.update({'14':(g8.vola,g5.vola,g3.vola)})\n",
    "        g8,g5,g3=G(A,a),G(B,b),G(C,c)\n",
    "        g3+g8\n",
    "        if (g8.vola,g5.vola,g3.vola) not in path.values()  :\n",
    "            LL.update({(g8.vola,g5.vola,g3.vola)})\n",
    "            path.update({'15':(g8.vola,g5.vola,g3.vola)})\n",
    "        g8,g5,g3=G(A,a),G(B,b),G(C,c)\n",
    "        g3+g5\n",
    "        if (g8.vola,g5.vola,g3.vola) not in path.values()  :\n",
    "            LL.update({(g8.vola,g5.vola,g3.vola)})\n",
    "            path.update({'16':(g8.vola,g5.vola,g3.vola)})\n",
    "    else:        \n",
    "        g8,g5,g3=G(A,a),G(B,b),G(C,c)\n",
    "        g8+g5\n",
    "        if (g8.vola,g5.vola,g3.vola) not in path.values() :\n",
    "            LL.update({(g8.vola,g5.vola,g3.vola)})\n",
    "            path.update({str(int(gv((a,b,c),path))*10+1):(g8.vola,g5.vola,g3.vola)})\n",
    "        g8,g5,g3=G(A,a),G(B,b),G(C,c)\n",
    "        g8+g3\n",
    "        if (g8.vola,g5.vola,g3.vola) not in path.values() :\n",
    "            LL.update({(g8.vola,g5.vola,g3.vola)})\n",
    "            path.update({str(int(gv((a,b,c),path))*10+2):(g8.vola,g5.vola,g3.vola)})\n",
    "        g8,g5,g3=G(A,a),G(B,b),G(C,c)\n",
    "        g5+g8\n",
    "        if (g8.vola,g5.vola,g3.vola) not in path.values() :\n",
    "            LL.update({(g8.vola,g5.vola,g3.vola)})\n",
    "            path.update({str(int(gv((a,b,c),path))*10+3):(g8.vola,g5.vola,g3.vola)})\n",
    "        g8,g5,g3=G(A,a),G(B,b),G(C,c)\n",
    "        g5+g3\n",
    "        if (g8.vola,g5.vola,g3.vola) not in path.values()  :\n",
    "            LL.update({(g8.vola,g5.vola,g3.vola)})\n",
    "            path.update({str(int(gv((a,b,c),path))*10+4):(g8.vola,g5.vola,g3.vola)})\n",
    "        g8,g5,g3=G(A,a),G(B,b),G(C,c)\n",
    "        g3+g8\n",
    "        if (g8.vola,g5.vola,g3.vola) not in path.values()  :\n",
    "            LL.update({(g8.vola,g5.vola,g3.vola)})\n",
    "            path.update({str(int(gv((a,b,c),path))*10+5):(g8.vola,g5.vola,g3.vola)})\n",
    "        g8,g5,g3=G(A,a),G(B,b),G(C,c)\n",
    "        g3+g5\n",
    "        if (g8.vola,g5.vola,g3.vola) not in path.values() :\n",
    "            LL.update({(g8.vola,g5.vola,g3.vola)})\n",
    "            path.update({str(int(gv((a,b,c),path))*10+6):(g8.vola,g5.vola,g3.vola)})\n",
    "    return LL,path    "
   ]
  },
  {
   "cell_type": "code",
   "execution_count": null,
   "metadata": {},
   "outputs": [],
   "source": [
    "# function to get value of dictionary\n",
    "def gv(val,dic):\n",
    "        return list(dic.keys())[list(dic.values()).index(val)]"
   ]
  },
  {
   "cell_type": "code",
   "execution_count": null,
   "metadata": {},
   "outputs": [],
   "source": [
    "## function that generates the whole graph\n",
    "def nivall(node,ini):\n",
    "    ''' construct the whole graph '''\n",
    "    global A,B,C, path\n",
    "    LL=set()\n",
    "    a,b,c = node[0],node[1],node[2]\n",
    "    if (a,b,c)==ini:\n",
    "        path={'1':ini}\n",
    "        g8,g5,g3=G(A,a),G(B,b),G(C,c)\n",
    "        g8+g5\n",
    "        if (g8.vola,g5.vola,g3.vola)!=node :\n",
    "            LL.update({(g8.vola,g5.vola,g3.vola)})\n",
    "            path.update({'11':(g8.vola,g5.vola,g3.vola)})\n",
    "        g8,g5,g3=G(A,a),G(B,b),G(C,c)\n",
    "        g8+g3\n",
    "        if (g8.vola,g5.vola,g3.vola)!=node:\n",
    "            LL.update({(g8.vola,g5.vola,g3.vola)})\n",
    "            path.update({'12':(g8.vola,g5.vola,g3.vola)})\n",
    "        g8,g5,g3=G(A,a),G(B,b),G(C,c)\n",
    "        g5+g8\n",
    "        if (g8.vola,g5.vola,g3.vola)!=node:\n",
    "            LL.update({(g8.vola,g5.vola,g3.vola)})\n",
    "            path.update({'13':(g8.vola,g5.vola,g3.vola)})\n",
    "        g8,g5,g3=G(A,a),G(B,b),G(C,c)\n",
    "        g5+g3\n",
    "        if (g8.vola,g5.vola,g3.vola) !=node:\n",
    "            LL.update({(g8.vola,g5.vola,g3.vola)})\n",
    "            path.update({'14':(g8.vola,g5.vola,g3.vola)})\n",
    "        g8,g5,g3=G(A,a),G(B,b),G(C,c)\n",
    "        g3+g8\n",
    "        if (g8.vola,g5.vola,g3.vola)!=node:\n",
    "            LL.update({(g8.vola,g5.vola,g3.vola)})\n",
    "            path.update({'15':(g8.vola,g5.vola,g3.vola)})\n",
    "        g8,g5,g3=G(A,a),G(B,b),G(C,c)\n",
    "        g3+g5\n",
    "        if (g8.vola,g5.vola,g3.vola)!=node:\n",
    "            LL.update({(g8.vola,g5.vola,g3.vola)})\n",
    "            path.update({'16':(g8.vola,g5.vola,g3.vola)})\n",
    "    else:        \n",
    "        g8,g5,g3=G(A,a),G(B,b),G(C,c)\n",
    "        g8+g5\n",
    "        if (g8.vola,g5.vola,g3.vola) !=node :\n",
    "            LL.update({(g8.vola,g5.vola,g3.vola)})\n",
    "            path.update({str(int(gv((a,b,c),path))*10+1):(g8.vola,g5.vola,g3.vola)})\n",
    "        g8,g5,g3=G(A,a),G(B,b),G(C,c)\n",
    "        g8+g3\n",
    "        if (g8.vola,g5.vola,g3.vola) !=node:\n",
    "            LL.update({(g8.vola,g5.vola,g3.vola)})\n",
    "            path.update({str(int(gv((a,b,c),path))*10+2):(g8.vola,g5.vola,g3.vola)})\n",
    "        g8,g5,g3=G(A,a),G(B,b),G(C,c)\n",
    "        g5+g8\n",
    "        if (g8.vola,g5.vola,g3.vola)!=node:\n",
    "            LL.update({(g8.vola,g5.vola,g3.vola)})\n",
    "            path.update({str(int(gv((a,b,c),path))*10+3):(g8.vola,g5.vola,g3.vola)})\n",
    "        g8,g5,g3=G(A,a),G(B,b),G(C,c)\n",
    "        g5+g3\n",
    "        if (g8.vola,g5.vola,g3.vola) !=node:\n",
    "            LL.update({(g8.vola,g5.vola,g3.vola)})\n",
    "            path.update({str(int(gv((a,b,c),path))*10+4):(g8.vola,g5.vola,g3.vola)})\n",
    "        g8,g5,g3=G(A,a),G(B,b),G(C,c)\n",
    "        g3+g8\n",
    "        if (g8.vola,g5.vola,g3.vola) !=node:\n",
    "            LL.update({(g8.vola,g5.vola,g3.vola)})\n",
    "            path.update({str(int(gv((a,b,c),path))*10+5):(g8.vola,g5.vola,g3.vola)})\n",
    "        g8,g5,g3=G(A,a),G(B,b),G(C,c)\n",
    "        g3+g5\n",
    "        if (g8.vola,g5.vola,g3.vola)!=node:\n",
    "            LL.update({(g8.vola,g5.vola,g3.vola)})\n",
    "            path.update({str(int(gv((a,b,c),path))*10+6):(g8.vola,g5.vola,g3.vola)})\n",
    "    return LL,path"
   ]
  },
  {
   "cell_type": "code",
   "execution_count": null,
   "metadata": {},
   "outputs": [],
   "source": [
    "def tree(ini):\n",
    "    ''' get the tree every node is visited once '''\n",
    "    global path \n",
    "    new_nodes=niv(*ini,ini)[0]\n",
    "    while new_nodes:\n",
    "        temp=set()\n",
    "        for node in new_nodes:\n",
    "            temp.update(niv(*node,gv(node,path))[0])\n",
    "        new_nodes=temp\n",
    "    return path"
   ]
  },
  {
   "cell_type": "code",
   "execution_count": null,
   "metadata": {},
   "outputs": [],
   "source": [
    "def alltree(ini):\n",
    "    ''' get the whole direct graph '''\n",
    "    global path\n",
    "    allt=tree(ini)\n",
    "    L=[k for k in [(u,v) for u in path.keys() for v in [k for k in path.keys() if len(k)==len(u)+1]] if k[0]== k[1][:-1] ]\n",
    "    for x in L:\n",
    "        nivall(path[x[1]],path[x[0]])\n",
    "    return path     \n",
    "    "
   ]
  },
  {
   "cell_type": "code",
   "execution_count": null,
   "metadata": {},
   "outputs": [],
   "source": [
    "def sol(target,ini):\n",
    "    global path\n",
    "    sols=set()\n",
    "    new_nodes=niv(*ini,ini)[0]\n",
    "    for u in new_nodes:\n",
    "            if target in u :\n",
    "                sols.update({gv(u,path)})\n",
    "    while new_nodes and not sols:\n",
    "        temp=set()\n",
    "        for node in new_nodes:\n",
    "            temp.update(niv(*node,gv(node,path))[0])\n",
    "        new_nodes=temp\n",
    "        for u in new_nodes:\n",
    "            if target in u :\n",
    "                sols.update({gv(u,path)})\n",
    "                break\n",
    "                \n",
    "    return sols"
   ]
  },
  {
   "cell_type": "code",
   "execution_count": null,
   "metadata": {},
   "outputs": [],
   "source": [
    "# all the tree as a dictionary \n",
    "A,B,C=8,5,3\n",
    "alltree((8,0,0))"
   ]
  },
  {
   "cell_type": "code",
   "execution_count": null,
   "metadata": {},
   "outputs": [],
   "source": [
    "from IPython.display import Image,SVG\n",
    "Image(filename='img/example.png')\n",
    "# the graph of the problem with A=8,B=5 and C=3\n"
   ]
  },
  {
   "cell_type": "markdown",
   "metadata": {},
   "source": [
    "# The general solution"
   ]
  },
  {
   "cell_type": "code",
   "execution_count": null,
   "metadata": {},
   "outputs": [],
   "source": [
    "import networkx as nx\n",
    "import matplotlib.pyplot as plt\n",
    "def chem(ch):\n",
    "    '''Printing the solution Path '''\n",
    "    a=''\n",
    "    cd={'1':'A->B','2':'A->C','3':'B->A','4':'B->C','5':'C->A','6':'C->B'}\n",
    "    #cd={'1':r\"$A\\to B$\",'2':r\"$A\\to C$\",'3':r\"$B\\to A$\",'4':r\"$B\\to C$\",'5':r\"$C\\to A$\",'6':r\"$C\\to B$\"}\n",
    "    for u in ch[1:]:\n",
    "        a=a+cd[u]+','\n",
    "    return a[:-1]\n",
    "def printsol(A=8,B=5,C=3,ini=(8,0,0),volume=4):\n",
    "    alltree(ini);\n",
    "    cd={'1':r\"$A\\to B$\",'2':r\"$A\\to C$\",'3':r\"$B\\to A$\",'4':r\"$B\\to C$\",'5':r\"$C\\to A$\",'6':r\"$C\\to B$\"}\n",
    "    L=[k for k in [(u,v) for u in path.keys() for v in [k for k in path.keys() if len(k)==len(u)+1]] if k[0] ==k[1][:-1] ]\n",
    "    f=lambda u:(int(u[0]),int(u[1]))\n",
    "    LL=list(map(f,L))\n",
    "    mapping={int(u):path[u] for u in path }\n",
    "    mappings=path\n",
    "    target={chem(s):mapping[int(s)] for s in sol(volume,ini)}\n",
    "    if not target and volume not in ini:\n",
    "        print(\"No solution for the given volume\")\n",
    "    elif volume in ini:\n",
    "        print(\"Nothing to do, you have the right volume \")\n",
    "    else:\n",
    "        print('Action needed = {} and  Final result = {}'.format(list(target.keys())[0],list(target.values())))\n",
    "        print('Action A->B means fill jug B with the jug A')\n",
    "        g=nx.DiGraph()\n",
    "        g.add_edges_from(L)\n",
    "        g=nx.relabel_nodes(g, mappings)\n",
    "        pos = nx.spring_layout(g)\n",
    "        for y in target.values():\n",
    "            paths = nx.shortest_path(g,source=ini,target=y)\n",
    "            not_in_node=[u for u in g if u not in paths]\n",
    "            path_edges =list( zip(paths,paths[1:]))\n",
    "            not_in_edge=[u for u in g.edges() if u not in path_edges]\n",
    "\n",
    "            plt.figure(1,figsize=(10,8))\n",
    "\n",
    "            nx.draw_networkx_nodes(g, pos,\n",
    "                               nodelist=paths,\n",
    "                               node_size=1500,\n",
    "                               node_color='r',\n",
    "                               alpha=0.1)\n",
    "            nx.draw_networkx_nodes(g, pos,\n",
    "                               nodelist=not_in_node,\n",
    "                               node_size=1500,\n",
    "                               node_color='b',\n",
    "                               alpha=0.1)\n",
    "            nx.draw_networkx_edges(g, pos,\n",
    "                               edgelist=path_edges,\n",
    "                               width=2, alpha=0.6, edge_color='r')      \n",
    "            nx.draw_networkx_edge_labels(g, pos,{w:cd[gv(w[1],path)[-1]] for w in path_edges},\n",
    "                                        label_pos=0.5)\n",
    "            nx.draw_networkx_edges(g, pos,\n",
    "                               edgelist=not_in_edge,\n",
    "                               width=1, alpha=0.1, edge_color='k',connectionstyle= 'arc3,rad=0.3')\n",
    "\n",
    "            nx.draw_networkx_labels(g, pos, {u:u for u in paths}, font_size=8,font_weight='bold')\n",
    "            nx.draw_networkx_labels(g, pos, {u:u for u in not_in_node}, alpha=0.3, font_size=8,font_weight='bold')\n",
    "\n",
    "            p=nx.drawing.nx_pydot.to_pydot(g)\n",
    "\n",
    "        plt.show()\n",
    "        #p.write_png('example.png')\n",
    "        \n",
    "    "
   ]
  },
  {
   "cell_type": "code",
   "execution_count": null,
   "metadata": {},
   "outputs": [],
   "source": [
    "# To solve the Gallon problem with A= 8, B=5 C=3, initial node = (8,0,0), the target volume = 4\n",
    "\n",
    "printsol(A=8,B=5,C=3,ini=(8,0,0),volume=4)"
   ]
  },
  {
   "cell_type": "code",
   "execution_count": null,
   "metadata": {},
   "outputs": [],
   "source": [
    "from IPython.display import display, Math"
   ]
  },
  {
   "cell_type": "code",
   "execution_count": null,
   "metadata": {},
   "outputs": [],
   "source": [
    "# all the tree as a dictionary \n",
    "A,B,C=18,10,5\n",
    "alltree((18,0,0));\n",
    "L=[k for k in [(u,v) for u in path.keys() for v in [k for k in path.keys() if len(k)==len(u)+1]] if k[0] ==k[1][:-1] ]\n",
    "f=lambda u:(int(u[0]),int(u[1]))\n",
    "LL=list(map(f,L))\n",
    "mapping={int(u):path[u] for u in path }"
   ]
  },
  {
   "cell_type": "code",
   "execution_count": null,
   "metadata": {},
   "outputs": [],
   "source": [
    "g=nx.DiGraph()\n",
    "g.add_edges_from(LL)\n",
    "h=nx.relabel_nodes(g, mapping)\n",
    "p=nx.drawing.nx_pydot.to_pydot(h)\n",
    "p.write_png('example18105.png')"
   ]
  },
  {
   "cell_type": "code",
   "execution_count": null,
   "metadata": {},
   "outputs": [],
   "source": [
    "Image(filename='img/example18105.png')"
   ]
  }
 ],
 "metadata": {
  "kernelspec": {
   "display_name": "Python 3.9.12 ('base')",
   "language": "python",
   "name": "python3"
  },
  "language_info": {
   "codemirror_mode": {
    "name": "ipython",
    "version": 3
   },
   "file_extension": ".py",
   "mimetype": "text/x-python",
   "name": "python",
   "nbconvert_exporter": "python",
   "pygments_lexer": "ipython3",
   "version": "3.9.12"
  },
  "vscode": {
   "interpreter": {
    "hash": "fda738482e5f1c609869929eb319e9a2dd0ddaa21c9c19ab911337575c64e882"
   }
  }
 },
 "nbformat": 4,
 "nbformat_minor": 4
}
