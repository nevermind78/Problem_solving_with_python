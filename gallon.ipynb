{
 "cells": [
  {
   "cell_type": "code",
   "execution_count": 2,
   "metadata": {},
   "outputs": [],
   "source": [
    "class G(object):\n",
    "    def __init__(self, volm,vola):\n",
    "        if vola>volm:\n",
    "            raise Exception('out of volume')\n",
    "        self.vola = vola\n",
    "        self.volm = volm\n",
    "        if self.vola<self.volm:\n",
    "            self.etat = False\n",
    "        else:\n",
    "            self.etat =True\n",
    "        if self.vola==0:\n",
    "            self.vide = True\n",
    "        else:\n",
    "            self.vide = False\n",
    "    def remp(self,other):\n",
    "        if not other.etat and not self.vide:\n",
    "            aco = other.vola\n",
    "            acs = self.vola\n",
    "            other.vola=(aco+acs)*(aco+acs<other.volm)+(other.volm)*(aco+acs>=other.volm)\n",
    "            self.vola=((acs+aco)-other.vola)*((acs+aco)-other.vola>0)\n",
    "                \n",
    "    def __add__(self,other):\n",
    "        if not other.etat and not self.vide:\n",
    "            aco = other.vola\n",
    "            acs = self.vola\n",
    "            other.vola=(aco+acs)*(aco+acs<other.volm)+(other.volm)*(aco+acs>=other.volm)\n",
    "            self.vola=((acs+aco)-other.vola)*((acs+aco)-other.vola>0)\n",
    "            "
   ]
  },
  {
   "cell_type": "code",
   "execution_count": 160,
   "metadata": {},
   "outputs": [],
   "source": [
    "g8=G(8,6)\n",
    "g5=G(5,2)"
   ]
  },
  {
   "cell_type": "code",
   "execution_count": 161,
   "metadata": {},
   "outputs": [
    {
     "data": {
      "text/plain": [
       "6"
      ]
     },
     "execution_count": 161,
     "metadata": {},
     "output_type": "execute_result"
    }
   ],
   "source": [
    "g8.vola"
   ]
  },
  {
   "cell_type": "code",
   "execution_count": 162,
   "metadata": {},
   "outputs": [
    {
     "data": {
      "text/plain": [
       "False"
      ]
     },
     "execution_count": 162,
     "metadata": {},
     "output_type": "execute_result"
    }
   ],
   "source": [
    "g5.etat"
   ]
  },
  {
   "cell_type": "code",
   "execution_count": 163,
   "metadata": {},
   "outputs": [],
   "source": [
    "g5.remp(g8)"
   ]
  },
  {
   "cell_type": "code",
   "execution_count": 164,
   "metadata": {},
   "outputs": [
    {
     "data": {
      "text/plain": [
       "0"
      ]
     },
     "execution_count": 164,
     "metadata": {},
     "output_type": "execute_result"
    }
   ],
   "source": [
    "g5.vola"
   ]
  },
  {
   "cell_type": "code",
   "execution_count": 165,
   "metadata": {},
   "outputs": [
    {
     "data": {
      "text/plain": [
       "8"
      ]
     },
     "execution_count": 165,
     "metadata": {},
     "output_type": "execute_result"
    }
   ],
   "source": [
    "g8.vola"
   ]
  },
  {
   "cell_type": "code",
   "execution_count": 199,
   "metadata": {},
   "outputs": [
    {
     "name": "stdout",
     "output_type": "stream",
     "text": [
      "1 2\n",
      "3 5 0\n"
     ]
    }
   ],
   "source": [
    "g8=G(8,1)\n",
    "g5=G(5,5)\n",
    "g3=G(3,2)\n",
    "print(g8.vola,g3.vola)\n",
    "\n",
    "g3+g8\n",
    "print(g8.vola,g5.vola,g3.vola)"
   ]
  },
  {
   "cell_type": "code",
   "execution_count": 167,
   "metadata": {},
   "outputs": [],
   "source": [
    "g8=G(8,8)\n",
    "g5=G(5,0)\n",
    "g3=G(3,0)"
   ]
  },
  {
   "cell_type": "code",
   "execution_count": 168,
   "metadata": {},
   "outputs": [],
   "source": [
    "L=(g8.vola,g5.vola,g3.vola)"
   ]
  },
  {
   "cell_type": "code",
   "execution_count": 169,
   "metadata": {},
   "outputs": [],
   "source": [
    "M=[(8,0,0)]"
   ]
  },
  {
   "cell_type": "code",
   "execution_count": 170,
   "metadata": {},
   "outputs": [],
   "source": [
    "g8,g5,g3=G(8,8),G(5,0),G(3,0)"
   ]
  },
  {
   "cell_type": "code",
   "execution_count": null,
   "metadata": {},
   "outputs": [],
   "source": []
  },
  {
   "cell_type": "code",
   "execution_count": 172,
   "metadata": {},
   "outputs": [
    {
     "data": {
      "text/plain": [
       "[(3, 5, 0), (5, 0, 3)]"
      ]
     },
     "execution_count": 172,
     "metadata": {},
     "output_type": "execute_result"
    }
   ],
   "source": [
    "M"
   ]
  },
  {
   "cell_type": "code",
   "execution_count": 357,
   "metadata": {},
   "outputs": [],
   "source": [
    "def niv(a,b,c,ini=(8,0,0)):\n",
    "    LL=set()\n",
    "    his={}\n",
    "    g8,g5,g3=G(8,a),G(5,b),G(3,c)\n",
    "    g8+g5\n",
    "    if(g8.vola,g5.vola,g3.vola) not in LL and (g8.vola,g5.vola,g3.vola)!=(a,b,c) and (g8.vola,g5.vola,g3.vola)!=ini:\n",
    "        LL.update({(g8.vola,g5.vola,g3.vola)})\n",
    "        his.update({'|a+b|':(g8.vola,g5.vola,g3.vola)})\n",
    "    g8,g5,g3=G(8,a),G(5,b),G(3,c)\n",
    "    g8+g3\n",
    "    if (g8.vola,g5.vola,g3.vola) not in LL and (g8.vola,g5.vola,g3.vola)!=(a,b,c) and (g8.vola,g5.vola,g3.vola)!=ini:\n",
    "        LL.update({(g8.vola,g5.vola,g3.vola)})\n",
    "        his.update({'|a+c|':(g8.vola,g5.vola,g3.vola)})\n",
    "    g8,g5,g3=G(8,a),G(5,b),G(3,c)\n",
    "    g5+g8\n",
    "    if(g8.vola,g5.vola,g3.vola) not in LL and (g8.vola,g5.vola,g3.vola)!=(a,b,c) and (g8.vola,g5.vola,g3.vola)!=ini:\n",
    "        LL.update({(g8.vola,g5.vola,g3.vola)})\n",
    "        his.update({'|b+a|':(g8.vola,g5.vola,g3.vola)})\n",
    "    g8,g5,g3=G(8,a),G(5,b),G(3,c)\n",
    "    g5+g3\n",
    "    if (g8.vola,g5.vola,g3.vola) not in LL and (g8.vola,g5.vola,g3.vola)!=(a,b,c) and (g8.vola,g5.vola,g3.vola)!=ini:\n",
    "        LL.update({(g8.vola,g5.vola,g3.vola)})\n",
    "        his.update({'|b+c|':(g8.vola,g5.vola,g3.vola)})\n",
    "    g8,g5,g3=G(8,a),G(5,b),G(3,c)\n",
    "    g3+g8\n",
    "    if(g8.vola,g5.vola,g3.vola) not in LL and (g8.vola,g5.vola,g3.vola)!=(a,b,c) and (g8.vola,g5.vola,g3.vola)!=ini:\n",
    "        LL.update({(g8.vola,g5.vola,g3.vola)})\n",
    "        his.update({'|c+a|':(g8.vola,g5.vola,g3.vola)})\n",
    "    g8,g5,g3=G(8,a),G(5,b),G(3,c)\n",
    "    g3+g5\n",
    "    if (g8.vola,g5.vola,g3.vola) not in LL and (g8.vola,g5.vola,g3.vola)!=(a,b,c) and (g8.vola,g5.vola,g3.vola)!=ini:\n",
    "        LL.update({(g8.vola,g5.vola,g3.vola)})\n",
    "        his.update({'|c+b|':(g8.vola,g5.vola,g3.vola)})\n",
    "    return LL,his  \n",
    "    "
   ]
  },
  {
   "cell_type": "code",
   "execution_count": 358,
   "metadata": {},
   "outputs": [
    {
     "data": {
      "text/plain": [
       "{'|a+b|': (3, 5, 0), '|a+c|': (5, 0, 3)}"
      ]
     },
     "execution_count": 358,
     "metadata": {},
     "output_type": "execute_result"
    }
   ],
   "source": [
    "niv(8,0,0)[1]"
   ]
  },
  {
   "cell_type": "code",
   "execution_count": 359,
   "metadata": {},
   "outputs": [
    {
     "name": "stdout",
     "output_type": "stream",
     "text": [
      "{(5, 0, 3), (3, 5, 0)}\n",
      "{(3, 2, 3), (0, 5, 3)}\n",
      "{(0, 5, 3), (5, 0, 3), (6, 2, 0), (3, 5, 0)}\n",
      "{(3, 2, 3), (6, 0, 2), (3, 5, 0)}\n",
      "{(1, 5, 2), (5, 0, 3), (6, 2, 0)}\n",
      "{(3, 5, 0), (0, 5, 3), (1, 4, 3), (6, 0, 2)}\n"
     ]
    }
   ],
   "source": [
    "k=0\n",
    "l=(8,0,0)\n",
    "print(niv(8,0,0)[0])\n",
    "print(niv(3,5,0)[0])\n",
    "print(niv(3,2,3)[0])\n",
    "print(niv(6,2,0)[0])\n",
    "print(niv(6,0,2)[0])\n",
    "print(niv(1,5,2)[0])\n"
   ]
  },
  {
   "cell_type": "code",
   "execution_count": 360,
   "metadata": {},
   "outputs": [],
   "source": [
    "def gv(val,dic):\n",
    "    return list(dic.keys())[list(dic.values()).index(val)]\n",
    "\n",
    "def uppath(target,ini):\n",
    "    global path\n",
    "    temp=[]\n",
    "    for a  in niv(*ini)[1] :\n",
    "        if niv(*ini)[1][a] not in path.values():\n",
    "            path.update({gv(ini,path)+a:niv(*ini)[1][a]})\n",
    "            temp.append(niv(*ini)[1][a])\n",
    "    return temp\n",
    "\n",
    "def searchin(target):\n",
    "    global path\n",
    "    for b in path.values() :\n",
    "        if target in b:\n",
    "            return True,gv(b,path),b,path\n",
    "    else:\n",
    "        return False  "
   ]
  },
  {
   "cell_type": "code",
   "execution_count": 361,
   "metadata": {},
   "outputs": [],
   "source": [
    "            \n",
    "def solve(target,ini):\n",
    "    global path \n",
    "    if searchin(target):\n",
    "        return searchin(target)[1:]\n",
    "    else:\n",
    "        for v in uppath(target,ini):\n",
    "            solve(target,v)\n",
    "            if searchin(target):\n",
    "                return searchin(target)[1:]    "
   ]
  },
  {
   "cell_type": "code",
   "execution_count": 367,
   "metadata": {},
   "outputs": [
    {
     "data": {
      "text/plain": [
       "'0bc'"
      ]
     },
     "execution_count": 367,
     "metadata": {},
     "output_type": "execute_result"
    }
   ],
   "source": [
    "path={'0': (8,0,0)}\n",
    "solve(4,(8,0,0))\n",
    "\n",
    "code={'0':0,'|a-b|':1,'|a-c|':2,'|b-a|':3,'|b-c|':4,'|c-a|':5,'|c-b|':6}\n",
    "\n",
    "'0abac'[::2]"
   ]
  },
  {
   "cell_type": "code",
   "execution_count": null,
   "metadata": {},
   "outputs": [],
   "source": []
  },
  {
   "cell_type": "code",
   "execution_count": 385,
   "metadata": {},
   "outputs": [
    {
     "data": {
      "text/plain": [
       "('0|a+b|',\n",
       " (2, 5, 0),\n",
       " {'0': (7, 0, 0), '0|a+b|': (2, 5, 0), '0|a+c|': (4, 0, 3)})"
      ]
     },
     "execution_count": 385,
     "metadata": {},
     "output_type": "execute_result"
    }
   ],
   "source": [
    "path={'0': (7,0,0)}\n",
    "solve(5,(7,0,0))"
   ]
  },
  {
   "cell_type": "code",
   "execution_count": 364,
   "metadata": {},
   "outputs": [],
   "source": [
    "import networkx as nx\n",
    "import random\n",
    "\n",
    "def hierarchy_pos(G, root=None, width=1., vert_gap = 0.2, vert_loc = 0, xcenter =1):\n",
    "\n",
    "    '''\n",
    "    From Joel's answer at https://stackoverflow.com/a/29597209/2966723.  \n",
    "    Licensed under Creative Commons Attribution-Share Alike \n",
    "\n",
    "    If the graph is a tree this will return the positions to plot this in a \n",
    "    hierarchical layout.\n",
    "\n",
    "    G: the graph (must be a tree)\n",
    "\n",
    "    root: the root node of current branch \n",
    "    - if the tree is directed and this is not given, \n",
    "      the root will be found and used\n",
    "    - if the tree is directed and this is given, then \n",
    "      the positions will be just for the descendants of this node.\n",
    "    - if the tree is undirected and not given, \n",
    "      then a random choice will be used.\n",
    "\n",
    "    width: horizontal space allocated for this branch - avoids overlap with other branches\n",
    "\n",
    "    vert_gap: gap between levels of hierarchy\n",
    "\n",
    "    vert_loc: vertical location of root\n",
    "\n",
    "    xcenter: horizontal location of root\n",
    "    '''\n",
    "    if not nx.is_tree(G):\n",
    "        raise TypeError('cannot use hierarchy_pos on a graph that is not a tree')\n",
    "\n",
    "    if root is None:\n",
    "        if isinstance(G, nx.DiGraph):\n",
    "            root = next(iter(nx.topological_sort(G)))  #allows back compatibility with nx version 1.11\n",
    "        else:\n",
    "            root = random.choice(list(G.nodes))\n",
    "\n",
    "    def _hierarchy_pos(G, root, width=1., vert_gap = 0.2, vert_loc = 0, xcenter = 0.5, pos = None, parent = None):\n",
    "        '''\n",
    "        see hierarchy_pos docstring for most arguments\n",
    "\n",
    "        pos: a dict saying where all nodes go if they have been assigned\n",
    "        parent: parent of this branch. - only affects it if non-directed\n",
    "\n",
    "        '''\n",
    "\n",
    "        if pos is None:\n",
    "            pos = {root:(xcenter,vert_loc)}\n",
    "        else:\n",
    "            pos[root] = (xcenter, vert_loc)\n",
    "        children = list(G.neighbors(root))\n",
    "        if not isinstance(G, nx.DiGraph) and parent is not None:\n",
    "            children.remove(parent)  \n",
    "        if len(children)!=0:\n",
    "            dx = width/len(children) \n",
    "            nextx = xcenter - width/2 - dx/2\n",
    "            for child in children:\n",
    "                nextx += dx\n",
    "                pos = _hierarchy_pos(G,child, width = dx, vert_gap = vert_gap, \n",
    "                                    vert_loc = vert_loc-vert_gap, xcenter=nextx,\n",
    "                                    pos=pos, parent = root)\n",
    "        return pos\n",
    "\n",
    "\n",
    "    return _hierarchy_pos(G, root, width, vert_gap, vert_loc, xcenter)"
   ]
  },
  {
   "cell_type": "code",
   "execution_count": null,
   "metadata": {},
   "outputs": [],
   "source": []
  },
  {
   "cell_type": "code",
   "execution_count": 158,
   "metadata": {},
   "outputs": [
    {
     "data": {
      "image/png": "[encoded data removed]",
      "text/plain": [
       "<Figure size 432x288 with 1 Axes>"
      ]
     },
     "metadata": {},
     "output_type": "display_data"
    }
   ],
   "source": [
    "import matplotlib.pyplot as plt\n",
    "import networkx as nx\n",
    "GG=nx.Graph()\n",
    "GG.add_edges_from([(1,2), (1,3), (1,4), (2,5), (2,6), (2,7), (3,8), (3,9), (4,10),\n",
    "                  (5,11), (5,12), (6,13),(13,1234)])\n",
    "pos = hierarchy_pos(G,1)\n",
    "mapping={2:'abcd'}\n",
    "H=nx.relabel_nodes(G,mapping)\n",
    "nx.draw(GG, pos=pos,with_labels=True)\n",
    "\n",
    "plt.savefig('hierarchy.png')"
   ]
  },
  {
   "cell_type": "code",
   "execution_count": null,
   "metadata": {},
   "outputs": [],
   "source": []
  },
  {
   "cell_type": "code",
   "execution_count": null,
   "metadata": {},
   "outputs": [],
   "source": []
  },
  {
   "cell_type": "code",
   "execution_count": null,
   "metadata": {},
   "outputs": [],
   "source": []
  }
 ],
 "metadata": {
  "kernelspec": {
   "display_name": "Python 3",
   "language": "python",
   "name": "python3"
  },
  "language_info": {
   "codemirror_mode": {
    "name": "ipython",
    "version": 3
   },
   "file_extension": ".py",
   "mimetype": "text/x-python",
   "name": "python",
   "nbconvert_exporter": "python",
   "pygments_lexer": "ipython3",
   "version": "3.7.4"
  }
 },
 "nbformat": 4,
 "nbformat_minor": 2
}
