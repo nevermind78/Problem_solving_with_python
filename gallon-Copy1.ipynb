{
 "cells": [
  {
   "cell_type": "code",
   "execution_count": 1,
   "metadata": {},
   "outputs": [],
   "source": [
    "class G(object):\n",
    "    def __init__(self, volm,vola):\n",
    "        if vola>volm:\n",
    "            raise Exception('out of volume')\n",
    "        self.vola = vola\n",
    "        self.volm = volm\n",
    "        if self.vola<self.volm:\n",
    "            self.etat = False\n",
    "        else:\n",
    "            self.etat =True\n",
    "        if self.vola==0:\n",
    "            self.vide = True\n",
    "        else:\n",
    "            self.vide = False                \n",
    "    def __add__(self,other):\n",
    "        if not other.etat and not self.vide:\n",
    "            aco = other.vola\n",
    "            acs = self.vola\n",
    "            other.vola=(aco+acs)*(aco+acs<other.volm)+(other.volm)*(aco+acs>=other.volm)\n",
    "            self.vola=((acs+aco)-other.vola)*((acs+aco)-other.vola>0)           "
   ]
  },
  {
   "cell_type": "code",
   "execution_count": 2,
   "metadata": {},
   "outputs": [],
   "source": [
    "def niv(a,b,c):\n",
    "    LL=set()\n",
    "    his={}\n",
    "    g8,g5,g3=G(8,a),G(4,b),G(3,c)\n",
    "    g8+g5\n",
    "    if(g8.vola,g5.vola,g3.vola) not in LL and (g8.vola,g5.vola,g3.vola)!=(a,b,c) :\n",
    "        LL.update({(g8.vola,g5.vola,g3.vola)})\n",
    "        his.update({'a->b|':(g8.vola,g5.vola,g3.vola)})\n",
    "    g8,g5,g3=G(8,a),G(7,b),G(3,c)\n",
    "    g8+g3\n",
    "    if (g8.vola,g5.vola,g3.vola) not in LL and (g8.vola,g5.vola,g3.vola)!=(a,b,c):\n",
    "        LL.update({(g8.vola,g5.vola,g3.vola)})\n",
    "        his.update({'a->c|':(g8.vola,g5.vola,g3.vola)})\n",
    "    g8,g5,g3=G(8,a),G(7,b),G(3,c)\n",
    "    g5+g8\n",
    "    if(g8.vola,g5.vola,g3.vola) not in LL and (g8.vola,g5.vola,g3.vola)!=(a,b,c):\n",
    "        LL.update({(g8.vola,g5.vola,g3.vola)})\n",
    "        his.update({'b->a|':(g8.vola,g5.vola,g3.vola)})\n",
    "    g8,g5,g3=G(8,a),G(4,b),G(3,c)\n",
    "    g5+g3\n",
    "    if (g8.vola,g5.vola,g3.vola) not in LL and (g8.vola,g5.vola,g3.vola)!=(a,b,c):\n",
    "        LL.update({(g8.vola,g5.vola,g3.vola)})\n",
    "        his.update({'b->c|':(g8.vola,g5.vola,g3.vola)})\n",
    "    g8,g5,g3=G(8,a),G(4,b),G(3,c)\n",
    "    g3+g8\n",
    "    if(g8.vola,g5.vola,g3.vola) not in LL and (g8.vola,g5.vola,g3.vola)!=(a,b,c):\n",
    "        LL.update({(g8.vola,g5.vola,g3.vola)})\n",
    "        his.update({'c->a|':(g8.vola,g5.vola,g3.vola)})\n",
    "    g8,g5,g3=G(8,a),G(4,b),G(3,c)\n",
    "    g3+g5\n",
    "    if (g8.vola,g5.vola,g3.vola) not in LL and (g8.vola,g5.vola,g3.vola)!=(a,b,c):\n",
    "        LL.update({(g8.vola,g5.vola,g3.vola)})\n",
    "        his.update({'c->b|':(g8.vola,g5.vola,g3.vola)})\n",
    "    return LL,his     "
   ]
  },
  {
   "cell_type": "code",
   "execution_count": 3,
   "metadata": {},
   "outputs": [
    {
     "data": {
      "text/plain": [
       "{'a->b|': (3, 4, 0), 'a->c|': (4, 0, 3)}"
      ]
     },
     "execution_count": 3,
     "metadata": {},
     "output_type": "execute_result"
    }
   ],
   "source": [
    "niv(7,0,0)[1]"
   ]
  },
  {
   "cell_type": "code",
   "execution_count": 10,
   "metadata": {},
   "outputs": [],
   "source": [
    "def gv(val,dic):\n",
    "    return list(dic.keys())[list(dic.values()).index(val)]\n",
    "\n",
    "def uppath(target,ini):\n",
    "    global path\n",
    "    temp=[]\n",
    "    for a  in niv(*ini)[1] :\n",
    "        if niv(*ini)[1][a] not in path.values():\n",
    "            path.update({gv(ini,path)+a:niv(*ini)[1][a]})\n",
    "            temp.append(niv(*ini)[1][a])\n",
    "    return temp\n",
    "\n",
    "def searchin(target):\n",
    "    global path\n",
    "    for b in path.values() :\n",
    "        if target in b:\n",
    "            return True,gv(b,path),b,path\n",
    "    else:\n",
    "        return False  "
   ]
  },
  {
   "cell_type": "code",
   "execution_count": 11,
   "metadata": {},
   "outputs": [],
   "source": [
    "def solve(target,ini):\n",
    "    global path \n",
    "    if searchin(target):\n",
    "        return searchin(target)[1:]\n",
    "    else:\n",
    "        for v in uppath(target,ini):\n",
    "            solve(target,v)\n",
    "            if searchin(target):\n",
    "                return searchin(target)[1:]    "
   ]
  },
  {
   "cell_type": "code",
   "execution_count": 13,
   "metadata": {},
   "outputs": [
    {
     "data": {
      "text/plain": [
       "('0|a->b|a->c|b->a|c->b|a->c|c->b|b->a|',\n",
       " (7, 0, 2),\n",
       " {'0|': (8, 1, 0),\n",
       "  '0|a->b|': (5, 4, 0),\n",
       "  '0|a->c|': (5, 1, 3),\n",
       "  '0|b->c|': (8, 0, 1),\n",
       "  '0|a->b|a->c|': (2, 4, 3),\n",
       "  '0|a->b|a->c|b->a|': (6, 0, 3),\n",
       "  '0|a->b|a->c|b->a|c->b|': (6, 3, 0),\n",
       "  '0|a->b|a->c|b->a|c->b|a->c|': (3, 3, 3),\n",
       "  '0|a->b|a->c|b->a|c->b|a->c|c->b|': (3, 4, 2),\n",
       "  '0|a->b|a->c|b->a|c->b|a->c|c->b|b->a|': (7, 0, 2)})"
      ]
     },
     "execution_count": 13,
     "metadata": {},
     "output_type": "execute_result"
    }
   ],
   "source": [
    "path={'0|': (8,1,0)}\n",
    "solve(7,(8,1,0))"
   ]
  },
  {
   "cell_type": "code",
   "execution_count": null,
   "metadata": {},
   "outputs": [],
   "source": []
  }
 ],
 "metadata": {
  "kernelspec": {
   "display_name": "Python 3",
   "language": "python",
   "name": "python3"
  },
  "language_info": {
   "codemirror_mode": {
    "name": "ipython",
    "version": 3
   },
   "file_extension": ".py",
   "mimetype": "text/x-python",
   "name": "python",
   "nbconvert_exporter": "python",
   "pygments_lexer": "ipython3",
   "version": "3.7.4"
  }
 },
 "nbformat": 4,
 "nbformat_minor": 2
}
